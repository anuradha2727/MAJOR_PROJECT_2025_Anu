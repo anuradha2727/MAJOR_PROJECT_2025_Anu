{
 "cells": [
  {
   "cell_type": "code",
   "execution_count": null,
   "id": "dee856e4",
   "metadata": {},
   "outputs": [],
   "source": [
    "\n",
    "import pandas as pd\n",
    "import joblib\n",
    "import glob\n",
    "from sklearn.preprocessing import MinMaxScaler"
   ]
  },
  {
   "cell_type": "code",
   "execution_count": 2,
   "id": "ac3be87d",
   "metadata": {},
   "outputs": [
    {
     "name": "stdout",
     "output_type": "stream",
     "text": [
      "Model loaded successfully!\n"
     ]
    }
   ],
   "source": [
    "# Load the trained model\n",
    "model_path = 'random_forest_model_optimized.pkl'  # Path to your saved model\n",
    "rf_model = joblib.load(model_path)\n",
    "print(\"Model loaded successfully!\")"
   ]
  },
  {
   "cell_type": "code",
   "execution_count": 3,
   "id": "f97eb59f",
   "metadata": {},
   "outputs": [
    {
     "name": "stdout",
     "output_type": "stream",
     "text": [
      "Real-time data loaded successfully!\n"
     ]
    }
   ],
   "source": [
    "# Define the path to the real-time data folder\n",
    "real_time_data_path = \"D:\\\\MAJOR_PROJECT_2025_Anu\\\\csv_output_files\"\n",
    "\n",
    "# Load all CSV files from the folder\n",
    "all_files = glob.glob(real_time_data_path + \"/*.csv\")\n",
    "\n",
    "# Concatenate all files into a single DataFrame\n",
    "real_time_data = pd.concat((pd.read_csv(f) for f in all_files), ignore_index=True)\n",
    "print(\"Real-time data loaded successfully!\")"
   ]
  },
  {
   "cell_type": "code",
   "execution_count": 4,
   "id": "b3f6ab60",
   "metadata": {},
   "outputs": [
    {
     "name": "stdout",
     "output_type": "stream",
     "text": [
      "Real-time data columns aligned with training data!\n"
     ]
    }
   ],
   "source": [
    "# Ensure the columns match the training data\n",
    "required_columns = rf_model.feature_names_in_  # Features used during training\n",
    "\n",
    "# Add missing columns with default values\n",
    "for col in required_columns:\n",
    "    if col not in real_time_data.columns:\n",
    "        real_time_data[col] = 0  # Add missing columns with default value\n",
    "\n",
    "# Drop extra columns\n",
    "real_time_data = real_time_data[required_columns]\n",
    "print(\"Real-time data columns aligned with training data!\")"
   ]
  },
  {
   "cell_type": "code",
   "execution_count": 5,
   "id": "daf3236d",
   "metadata": {},
   "outputs": [
    {
     "name": "stdout",
     "output_type": "stream",
     "text": [
      "Missing values handled successfully!\n"
     ]
    }
   ],
   "source": [
    "# Handle missing values (if any)\n",
    "real_time_data.fillna(0, inplace=True)  # Replace NaN with 0 (or use a more suitable strategy)\n",
    "print(\"Missing values handled successfully!\")"
   ]
  },
  {
   "cell_type": "code",
   "execution_count": 6,
   "id": "b4e3ac8a",
   "metadata": {},
   "outputs": [
    {
     "name": "stdout",
     "output_type": "stream",
     "text": [
      "Real-time data normalized successfully!\n"
     ]
    }
   ],
   "source": [
    "# Normalize the data (if normalization was applied during training)\n",
    "scaler = MinMaxScaler()\n",
    "real_time_data = pd.DataFrame(scaler.fit_transform(real_time_data), columns=required_columns)\n",
    "print(\"Real-time data normalized successfully!\")"
   ]
  },
  {
   "cell_type": "code",
   "execution_count": 7,
   "id": "9f97dfa6",
   "metadata": {},
   "outputs": [
    {
     "name": "stdout",
     "output_type": "stream",
     "text": [
      "Predictions made successfully!\n"
     ]
    }
   ],
   "source": [
    "# Make predictions\n",
    "predictions = rf_model.predict(real_time_data)\n",
    "\n",
    "# Map predictions to labels\n",
    "real_time_data['Predictions'] = predictions\n",
    "real_time_data['Prediction_Label'] = real_time_data['Predictions'].map({0: 'Safe', 1: 'Intrusion Detected'})\n",
    "print(\"Predictions made successfully!\")"
   ]
  },
  {
   "cell_type": "code",
   "execution_count": 8,
   "id": "ab08d412",
   "metadata": {},
   "outputs": [
    {
     "name": "stdout",
     "output_type": "stream",
     "text": [
      "Predictions saved to real_time_predictions.csv\n"
     ]
    }
   ],
   "source": [
    "# Save predictions to a CSV file\n",
    "output_path = \"real_time_predictions.csv\"\n",
    "real_time_data.to_csv(output_path, index=False)\n",
    "print(f\"Predictions saved to {output_path}\")"
   ]
  },
  {
   "cell_type": "code",
   "execution_count": 9,
   "id": "c7d82d43",
   "metadata": {},
   "outputs": [
    {
     "name": "stdout",
     "output_type": "stream",
     "text": [
      "Prediction Summary:\n",
      "Safe    62\n",
      "Name: Prediction_Label, dtype: int64\n"
     ]
    }
   ],
   "source": [
    "# Display the prediction summary\n",
    "prediction_summary = real_time_data['Prediction_Label'].value_counts()\n",
    "print(\"Prediction Summary:\")\n",
    "print(prediction_summary)"
   ]
  },
  {
   "cell_type": "code",
   "execution_count": null,
   "id": "5d90818b",
   "metadata": {},
   "outputs": [],
   "source": []
  }
 ],
 "metadata": {
  "kernelspec": {
   "display_name": "Python 3",
   "language": "python",
   "name": "python3"
  },
  "language_info": {
   "codemirror_mode": {
    "name": "ipython",
    "version": 3
   },
   "file_extension": ".py",
   "mimetype": "text/x-python",
   "name": "python",
   "nbconvert_exporter": "python",
   "pygments_lexer": "ipython3",
   "version": "3.11.2"
  }
 },
 "nbformat": 4,
 "nbformat_minor": 5
}
